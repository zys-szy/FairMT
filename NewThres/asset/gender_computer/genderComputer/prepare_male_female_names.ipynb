{
 "cells": [
  {
   "cell_type": "markdown",
   "metadata": {},
   "source": [
    "# Prepare Male and Female Names from GenderComputer"
   ]
  },
  {
   "cell_type": "markdown",
   "metadata": {},
   "source": [
    "## 1. Prepare Unique Male and Female Names\n",
    "\n",
    "This data is used to obtain 2 csv files:\n",
    "* **a list of unique male names**, saved as `../male_names_only.csv` : a list of male names such that for each male name, it doesn't exist as a female name in any country\n",
    "* **a list of unique female names**, saved as `../female_names_only.csv` : a list of female names such that for each female name, it doesn't exist as a male name in any country"
   ]
  },
  {
   "cell_type": "code",
   "execution_count": 361,
   "metadata": {},
   "outputs": [
    {
     "name": "stdout",
     "output_type": "stream",
     "text": [
      "Loaded dictionary from /Users/mhilmiasyrofi/Documents/BiasFinder/asset/gender_computer/genderComputer/nameLists/gender.dict\n",
      "Finished initialization\n"
     ]
    }
   ],
   "source": [
    "from genderComputer import GenderComputer\n",
    "gc = GenderComputer()\n",
    "\n",
    "name_to_gender = {}\n",
    "for country in gc.nameLists.keys():\n",
    "    for gender, names in gc.nameLists[country].items():\n",
    "        for name in names:\n",
    "            if name in name_to_gender and name_to_gender[name] != gender:\n",
    "                name_to_gender[name] = 'invalid'\n",
    "            else:\n",
    "                name_to_gender[name] = gender\n",
    "                \n",
    "result = [(name, gender) for name, gender in name_to_gender.items() if gender != 'invalid']"
   ]
  },
  {
   "cell_type": "code",
   "execution_count": 362,
   "metadata": {},
   "outputs": [],
   "source": [
    "# result"
   ]
  },
  {
   "cell_type": "code",
   "execution_count": 363,
   "metadata": {},
   "outputs": [
    {
     "data": {
      "text/plain": [
       "51518"
      ]
     },
     "execution_count": 363,
     "metadata": {},
     "output_type": "execute_result"
    }
   ],
   "source": [
    "male_name = [name for name, gender in name_to_gender.items() if gender == 'male']\n",
    "len(male_name)"
   ]
  },
  {
   "cell_type": "code",
   "execution_count": 364,
   "metadata": {},
   "outputs": [
    {
     "data": {
      "text/plain": [
       "56112"
      ]
     },
     "execution_count": 364,
     "metadata": {},
     "output_type": "execute_result"
    }
   ],
   "source": [
    "female_name = [ name for name, gender in name_to_gender.items() if gender == 'female']\n",
    "len(female_name)"
   ]
  },
  {
   "cell_type": "code",
   "execution_count": 365,
   "metadata": {},
   "outputs": [
    {
     "name": "stdout",
     "output_type": "stream",
     "text": [
      "42558\n",
      "46148\n"
     ]
    }
   ],
   "source": [
    "import string\n",
    "\n",
    "alphabet = string.ascii_lowercase\n",
    "\n",
    "def isAlphabetOnly(name) :\n",
    "    for char in name :\n",
    "        if char not in alphabet :\n",
    "            return False\n",
    "    return True\n",
    "\n",
    "alphabet_male_name = []\n",
    "alphabet_female_name = []\n",
    "\n",
    "\n",
    "for name in male_name :\n",
    "    if isAlphabetOnly(name):\n",
    "        alphabet_male_name.append(name)\n",
    "\n",
    "for name in female_name :\n",
    "    if isAlphabetOnly(name):\n",
    "        alphabet_female_name.append(name)\n",
    "        \n",
    "print(len(alphabet_male_name))\n",
    "print(len(alphabet_female_name))"
   ]
  },
  {
   "cell_type": "code",
   "execution_count": 366,
   "metadata": {},
   "outputs": [],
   "source": [
    "male_name = alphabet_male_name\n",
    "female_name = alphabet_female_name"
   ]
  },
  {
   "cell_type": "code",
   "execution_count": 367,
   "metadata": {},
   "outputs": [],
   "source": [
    "import pandas as pd"
   ]
  },
  {
   "cell_type": "code",
   "execution_count": 368,
   "metadata": {},
   "outputs": [],
   "source": [
    "dfm = pd.DataFrame(data={\"name\": male_name})"
   ]
  },
  {
   "cell_type": "code",
   "execution_count": 369,
   "metadata": {},
   "outputs": [
    {
     "data": {
      "text/html": [
       "<div>\n",
       "<style scoped>\n",
       "    .dataframe tbody tr th:only-of-type {\n",
       "        vertical-align: middle;\n",
       "    }\n",
       "\n",
       "    .dataframe tbody tr th {\n",
       "        vertical-align: top;\n",
       "    }\n",
       "\n",
       "    .dataframe thead th {\n",
       "        text-align: right;\n",
       "    }\n",
       "</style>\n",
       "<table border=\"1\" class=\"dataframe\">\n",
       "  <thead>\n",
       "    <tr style=\"text-align: right;\">\n",
       "      <th></th>\n",
       "      <th>name</th>\n",
       "    </tr>\n",
       "  </thead>\n",
       "  <tbody>\n",
       "    <tr>\n",
       "      <th>0</th>\n",
       "      <td>arsalakhan</td>\n",
       "    </tr>\n",
       "    <tr>\n",
       "      <th>1</th>\n",
       "      <td>aymal</td>\n",
       "    </tr>\n",
       "    <tr>\n",
       "      <th>2</th>\n",
       "      <td>babrack</td>\n",
       "    </tr>\n",
       "    <tr>\n",
       "      <th>3</th>\n",
       "      <td>jelander</td>\n",
       "    </tr>\n",
       "    <tr>\n",
       "      <th>4</th>\n",
       "      <td>adil</td>\n",
       "    </tr>\n",
       "    <tr>\n",
       "      <th>...</th>\n",
       "      <td>...</td>\n",
       "    </tr>\n",
       "    <tr>\n",
       "      <th>42553</th>\n",
       "      <td>wubbo</td>\n",
       "    </tr>\n",
       "    <tr>\n",
       "      <th>42554</th>\n",
       "      <td>ybele</td>\n",
       "    </tr>\n",
       "    <tr>\n",
       "      <th>42555</th>\n",
       "      <td>ygram</td>\n",
       "    </tr>\n",
       "    <tr>\n",
       "      <th>42556</th>\n",
       "      <td>ype</td>\n",
       "    </tr>\n",
       "    <tr>\n",
       "      <th>42557</th>\n",
       "      <td>zweitser</td>\n",
       "    </tr>\n",
       "  </tbody>\n",
       "</table>\n",
       "<p>42558 rows × 1 columns</p>\n",
       "</div>"
      ],
      "text/plain": [
       "             name\n",
       "0      arsalakhan\n",
       "1           aymal\n",
       "2         babrack\n",
       "3        jelander\n",
       "4            adil\n",
       "...           ...\n",
       "42553       wubbo\n",
       "42554       ybele\n",
       "42555       ygram\n",
       "42556         ype\n",
       "42557    zweitser\n",
       "\n",
       "[42558 rows x 1 columns]"
      ]
     },
     "execution_count": 369,
     "metadata": {},
     "output_type": "execute_result"
    }
   ],
   "source": [
    "dfm"
   ]
  },
  {
   "cell_type": "markdown",
   "metadata": {},
   "source": [
    "#### Check the name"
   ]
  },
  {
   "cell_type": "code",
   "execution_count": 370,
   "metadata": {},
   "outputs": [
    {
     "data": {
      "text/plain": [
       "True"
      ]
     },
     "execution_count": 370,
     "metadata": {},
     "output_type": "execute_result"
    }
   ],
   "source": [
    "\"palona\" in dfm[\"name\"].tolist()\n",
    "\"danyar\" in dfm[\"name\"].tolist()"
   ]
  },
  {
   "cell_type": "code",
   "execution_count": 371,
   "metadata": {},
   "outputs": [
    {
     "data": {
      "text/html": [
       "<div>\n",
       "<style scoped>\n",
       "    .dataframe tbody tr th:only-of-type {\n",
       "        vertical-align: middle;\n",
       "    }\n",
       "\n",
       "    .dataframe tbody tr th {\n",
       "        vertical-align: top;\n",
       "    }\n",
       "\n",
       "    .dataframe thead th {\n",
       "        text-align: right;\n",
       "    }\n",
       "</style>\n",
       "<table border=\"1\" class=\"dataframe\">\n",
       "  <thead>\n",
       "    <tr style=\"text-align: right;\">\n",
       "      <th></th>\n",
       "      <th>name</th>\n",
       "    </tr>\n",
       "  </thead>\n",
       "  <tbody>\n",
       "    <tr>\n",
       "      <th>0</th>\n",
       "      <td>kawatara</td>\n",
       "    </tr>\n",
       "    <tr>\n",
       "      <th>1</th>\n",
       "      <td>spogmai</td>\n",
       "    </tr>\n",
       "    <tr>\n",
       "      <th>2</th>\n",
       "      <td>torpekai</td>\n",
       "    </tr>\n",
       "    <tr>\n",
       "      <th>3</th>\n",
       "      <td>dlia</td>\n",
       "    </tr>\n",
       "    <tr>\n",
       "      <th>4</th>\n",
       "      <td>justina</td>\n",
       "    </tr>\n",
       "    <tr>\n",
       "      <th>...</th>\n",
       "      <td>...</td>\n",
       "    </tr>\n",
       "    <tr>\n",
       "      <th>46143</th>\n",
       "      <td>ypje</td>\n",
       "    </tr>\n",
       "    <tr>\n",
       "      <th>46144</th>\n",
       "      <td>ytje</td>\n",
       "    </tr>\n",
       "    <tr>\n",
       "      <th>46145</th>\n",
       "      <td>ytske</td>\n",
       "    </tr>\n",
       "    <tr>\n",
       "      <th>46146</th>\n",
       "      <td>yttje</td>\n",
       "    </tr>\n",
       "    <tr>\n",
       "      <th>46147</th>\n",
       "      <td>zuster</td>\n",
       "    </tr>\n",
       "  </tbody>\n",
       "</table>\n",
       "<p>46148 rows × 1 columns</p>\n",
       "</div>"
      ],
      "text/plain": [
       "           name\n",
       "0      kawatara\n",
       "1       spogmai\n",
       "2      torpekai\n",
       "3          dlia\n",
       "4       justina\n",
       "...         ...\n",
       "46143      ypje\n",
       "46144      ytje\n",
       "46145     ytske\n",
       "46146     yttje\n",
       "46147    zuster\n",
       "\n",
       "[46148 rows x 1 columns]"
      ]
     },
     "execution_count": 371,
     "metadata": {},
     "output_type": "execute_result"
    }
   ],
   "source": [
    "dff = pd.DataFrame(data={\"name\": female_name})\n",
    "dff"
   ]
  },
  {
   "cell_type": "markdown",
   "metadata": {},
   "source": [
    "#### Check the name"
   ]
  },
  {
   "cell_type": "code",
   "execution_count": 372,
   "metadata": {},
   "outputs": [
    {
     "data": {
      "text/plain": [
       "True"
      ]
     },
     "execution_count": 372,
     "metadata": {},
     "output_type": "execute_result"
    }
   ],
   "source": [
    "\"sveya\" in dff[\"name\"].tolist()"
   ]
  },
  {
   "cell_type": "markdown",
   "metadata": {},
   "source": [
    "#### Save the names into csv files"
   ]
  },
  {
   "cell_type": "code",
   "execution_count": 373,
   "metadata": {},
   "outputs": [],
   "source": [
    "dfm.to_csv(\"../male_names_only.csv\", index=False)\n",
    "dff.to_csv(\"../female_names_only.csv\", index=False)"
   ]
  },
  {
   "cell_type": "markdown",
   "metadata": {},
   "source": [
    "### 1b. Get Unique name from a Country"
   ]
  },
  {
   "cell_type": "code",
   "execution_count": 374,
   "metadata": {},
   "outputs": [
    {
     "name": "stdout",
     "output_type": "stream",
     "text": [
      "Country List:  dict_keys(['Afghanistan', 'Albania', 'Australia', 'Belgium', 'Brazil', 'Canada', 'Czech', 'Finland', 'Greece', 'Hungary', 'India', 'Iran', 'Ireland', 'Israel', 'Italy', 'Latvia', 'Norway', 'Poland', 'Romania', 'Russia', 'Slovenia', 'Somalia', 'Spain', 'Sweden', 'Turkey', 'UK', 'Ukraine', 'USA', 'The Netherlands'])\n"
     ]
    }
   ],
   "source": [
    "print(\"Country List: \", gc.nameLists.keys())"
   ]
  },
  {
   "cell_type": "markdown",
   "metadata": {},
   "source": [
    "**We choose to use name from USA**"
   ]
  },
  {
   "cell_type": "code",
   "execution_count": 375,
   "metadata": {},
   "outputs": [],
   "source": [
    "selected_country = \"USA\"\n",
    "\n",
    "names_from_selected_country = []\n",
    "# names_outside_selected_country = set()\n",
    "\n",
    "for country in gc.nameLists.keys():\n",
    "    if country == selected_country :\n",
    "        for gender, names in gc.nameLists[country].items() :\n",
    "#             print(names)\n",
    "            for name in names : # the names are already sorted based on their probability\n",
    "                names_from_selected_country.append(name)\n",
    "\n",
    "\n",
    "selected_male_name = []\n",
    "selected_female_name = []\n",
    "\n",
    "set_male_name = set(male_name)\n",
    "set_female_name = set(female_name)\n",
    "\n",
    "\n",
    "for name in names_from_selected_country:\n",
    "    if name in set_male_name :\n",
    "        selected_male_name.append(name)\n",
    "    elif name in set_female_name :        \n",
    "        selected_female_name.append(name)"
   ]
  },
  {
   "cell_type": "code",
   "execution_count": 376,
   "metadata": {},
   "outputs": [
    {
     "name": "stdout",
     "output_type": "stream",
     "text": [
      "688\n",
      "3092\n"
     ]
    }
   ],
   "source": [
    "print(len(selected_male_name))\n",
    "print(len(selected_female_name))"
   ]
  },
  {
   "cell_type": "code",
   "execution_count": 377,
   "metadata": {},
   "outputs": [],
   "source": [
    "selected_dfm = pd.DataFrame(data={\"name\": selected_male_name})\n",
    "selected_dff = pd.DataFrame(data={\"name\": selected_female_name})\n",
    "\n",
    "# selected_dfm = selected_dfm.sample(frac=1, random_state=123)\n",
    "mnames = selected_dfm[\"name\"].tolist()# # names from GC\n",
    "\n",
    "# selected_dff = selected_dff.sample(frac=1, random_state=123)\n",
    "fnames = selected_dff[\"name\"].tolist()# # names from GC"
   ]
  },
  {
   "cell_type": "code",
   "execution_count": 378,
   "metadata": {},
   "outputs": [
    {
     "data": {
      "text/plain": [
       "['douglas',\n",
       " 'jonathan',\n",
       " 'ralph',\n",
       " 'nicholas',\n",
       " 'bruce',\n",
       " 'harry',\n",
       " 'howard',\n",
       " 'ernest',\n",
       " 'phillip',\n",
       " 'todd',\n",
       " 'craig',\n",
       " 'alan',\n",
       " 'philip',\n",
       " 'earl',\n",
       " 'stanley',\n",
       " 'leonard',\n",
       " 'rodney',\n",
       " 'jeffery',\n",
       " 'jeff',\n",
       " 'jacob',\n",
       " 'alfred',\n",
       " 'bradley',\n",
       " 'herbert',\n",
       " 'frederick',\n",
       " 'don',\n",
       " 'bernard',\n",
       " 'leroy',\n",
       " 'marcus',\n",
       " 'clifford',\n",
       " 'jim',\n",
       " 'calvin',\n",
       " 'bill',\n",
       " 'lloyd',\n",
       " 'derek',\n",
       " 'warren',\n",
       " 'darrell',\n",
       " 'jerome',\n",
       " 'floyd',\n",
       " 'gordon',\n",
       " 'greg',\n",
       " 'jorge',\n",
       " 'pedro',\n",
       " 'derrick',\n",
       " 'zachary',\n",
       " 'herman',\n",
       " 'hector',\n",
       " 'ricardo',\n",
       " 'rick',\n",
       " 'brent',\n",
       " 'ramon',\n",
       " 'reginald',\n",
       " 'ruben',\n",
       " 'nathaniel',\n",
       " 'edgar',\n",
       " 'milton',\n",
       " 'raul',\n",
       " 'chester',\n",
       " 'duane',\n",
       " 'franklin',\n",
       " 'brad',\n",
       " 'ron',\n",
       " 'roland',\n",
       " 'arnold',\n",
       " 'harvey',\n",
       " 'jared',\n",
       " 'erik',\n",
       " 'neil',\n",
       " 'javier',\n",
       " 'fernando',\n",
       " 'clinton',\n",
       " 'ted',\n",
       " 'mathew',\n",
       " 'tyrone',\n",
       " 'lance',\n",
       " 'kurt',\n",
       " 'allan',\n",
       " 'nelson',\n",
       " 'clayton',\n",
       " 'hugh',\n",
       " 'dwayne',\n",
       " 'dwight',\n",
       " 'armando',\n",
       " 'everett',\n",
       " 'wallace',\n",
       " 'ken',\n",
       " 'bob',\n",
       " 'alfredo',\n",
       " 'alberto',\n",
       " 'ivan',\n",
       " 'byron',\n",
       " 'isaac',\n",
       " 'clifton',\n",
       " 'willard',\n",
       " 'ross',\n",
       " 'salvador',\n",
       " 'kirk',\n",
       " 'sergio',\n",
       " 'kent',\n",
       " 'terrance',\n",
       " 'eduardo']"
      ]
     },
     "execution_count": 378,
     "metadata": {},
     "output_type": "execute_result"
    }
   ],
   "source": [
    "mnames[:100]"
   ]
  },
  {
   "cell_type": "code",
   "execution_count": 379,
   "metadata": {},
   "outputs": [],
   "source": [
    "# excluded_male = [\"olin\", \"lucio\", \"german\", \"julius\", \"faustino\", \"eusebio\", \"aurelio\", \"jacinto\", \"lionel\", \"von\", \"conrad\", \"russ\", \"salvador\", \"rodrigo\", \"florencio\",\"thurman\", \"noble\", \"gaylord\"]\n",
    "excluded_male = [\"douglas\", \"ralph\", \"nicholas\", \"bruce\", \"howard\", \"ernest\", \"phillip\", \"philip\", \"craig\", \"alan\", \"philip\", \"stanley\", \"leonard\", \"rodney\",\n",
    "                \"jacob\", \"bradley\", \"herbert\", \"don\", \"bernard\", \"clifford\", \"jim\", \"calvin\", \"lloyd\", \"warren\", \"floyd\", \"gordon\", \"greg\", \"herman\",\n",
    "                \"hector\", \"ricardo\", \"rick\", \"brent\", \"ramon\", \"ruben\", \"milton\", \"chester\", \"franklin\", \"brad\", \"ron\", \"roland\", \"harvey\",\n",
    "                \"javier\", \"fernando\", \"clinton\", \"ted\", \"mathew\", \"tyrone\", \"kurt\", \"allan\", \"nelson\", \"clayton\", \"dwayne\", \"dwight\", \"armando\", \"everett\", \"wallace\",\n",
    "                \"ken\", \"bob\", \"alfredo\", \"alberto\", \"ivan\", \"byron\", \"isaac\", \"clifton\", \"willard\", \"ross\", \"salvador\", \"kirk\", \"sergio\", \"kent\", \"eduardo\"]"
   ]
  },
  {
   "cell_type": "code",
   "execution_count": 380,
   "metadata": {},
   "outputs": [],
   "source": [
    "def diff(first, second):\n",
    "    second = set(second)\n",
    "    return [item for item in first if item not in second]\n",
    "\n",
    "selected_male_name = diff(mnames, excluded_male)"
   ]
  },
  {
   "cell_type": "code",
   "execution_count": 381,
   "metadata": {},
   "outputs": [
    {
     "data": {
      "text/plain": [
       "['barbara',\n",
       " 'elizabeth',\n",
       " 'jennifer',\n",
       " 'susan',\n",
       " 'margaret',\n",
       " 'dorothy',\n",
       " 'lisa',\n",
       " 'betty',\n",
       " 'laura',\n",
       " 'deborah',\n",
       " 'jessica',\n",
       " 'cynthia',\n",
       " 'angela',\n",
       " 'melissa',\n",
       " 'brenda',\n",
       " 'rebecca',\n",
       " 'kathleen',\n",
       " 'pamela',\n",
       " 'martha',\n",
       " 'debra',\n",
       " 'carolyn',\n",
       " 'christine',\n",
       " 'ann',\n",
       " 'diane',\n",
       " 'julie',\n",
       " 'teresa',\n",
       " 'evelyn',\n",
       " 'cheryl',\n",
       " 'mildred',\n",
       " 'katherine',\n",
       " 'judith',\n",
       " 'kathy',\n",
       " 'theresa',\n",
       " 'tammy',\n",
       " 'marilyn',\n",
       " 'kathryn',\n",
       " 'sara',\n",
       " 'phyllis',\n",
       " 'norma',\n",
       " 'paula',\n",
       " 'diana',\n",
       " 'annie',\n",
       " 'emily',\n",
       " 'crystal',\n",
       " 'gladys',\n",
       " 'rita',\n",
       " 'dawn',\n",
       " 'edna',\n",
       " 'tiffany',\n",
       " 'cindy']"
      ]
     },
     "execution_count": 381,
     "metadata": {},
     "output_type": "execute_result"
    }
   ],
   "source": [
    "fnames[:50]"
   ]
  },
  {
   "cell_type": "code",
   "execution_count": 382,
   "metadata": {},
   "outputs": [],
   "source": [
    "# excluded_female  = [\"mavis\", \"rima\", \"seema\", \"cami\",\"inga\", \"modesta\", \"vashti\" ,\"paige\", \"brittany\",\"summer\", \"brianna\"]\n",
    "excluded_female = [\"lisa\", \"laura\", \"angela\", \"brenda\", \"debra\", \"christine\", \"ann\", \"evelyn\", \"judith\", \"kathryn\", \n",
    "                   \"sara\", \"paula\", \"diana\"]"
   ]
  },
  {
   "cell_type": "code",
   "execution_count": 383,
   "metadata": {},
   "outputs": [],
   "source": [
    "selected_female_name = diff(fnames, excluded_female)"
   ]
  },
  {
   "cell_type": "code",
   "execution_count": 384,
   "metadata": {},
   "outputs": [],
   "source": [
    "selected_dfm = pd.DataFrame(data={\"name\": selected_male_name[:30]})\n",
    "selected_dff = pd.DataFrame(data={\"name\": selected_female_name[:30]})\n",
    "\n",
    "mnames = selected_dfm[\"name\"].tolist()# # names from GC\n",
    "fnames = selected_dff[\"name\"].tolist()# # names from GC"
   ]
  },
  {
   "cell_type": "code",
   "execution_count": 385,
   "metadata": {},
   "outputs": [
    {
     "data": {
      "text/plain": [
       "['jonathan',\n",
       " 'harry',\n",
       " 'todd',\n",
       " 'earl',\n",
       " 'jeffery',\n",
       " 'jeff',\n",
       " 'alfred',\n",
       " 'frederick',\n",
       " 'leroy',\n",
       " 'marcus',\n",
       " 'bill',\n",
       " 'derek',\n",
       " 'darrell',\n",
       " 'jerome',\n",
       " 'jorge',\n",
       " 'pedro',\n",
       " 'derrick',\n",
       " 'zachary',\n",
       " 'reginald',\n",
       " 'nathaniel',\n",
       " 'edgar',\n",
       " 'raul',\n",
       " 'duane',\n",
       " 'arnold',\n",
       " 'jared',\n",
       " 'erik',\n",
       " 'neil',\n",
       " 'lance',\n",
       " 'hugh',\n",
       " 'terrance']"
      ]
     },
     "execution_count": 385,
     "metadata": {},
     "output_type": "execute_result"
    }
   ],
   "source": [
    "mnames[:30]"
   ]
  },
  {
   "cell_type": "code",
   "execution_count": 386,
   "metadata": {},
   "outputs": [
    {
     "data": {
      "text/plain": [
       "['barbara',\n",
       " 'elizabeth',\n",
       " 'jennifer',\n",
       " 'susan',\n",
       " 'margaret',\n",
       " 'dorothy',\n",
       " 'betty',\n",
       " 'deborah',\n",
       " 'jessica',\n",
       " 'cynthia',\n",
       " 'melissa',\n",
       " 'rebecca',\n",
       " 'kathleen',\n",
       " 'pamela',\n",
       " 'martha',\n",
       " 'carolyn',\n",
       " 'diane',\n",
       " 'julie',\n",
       " 'teresa',\n",
       " 'cheryl',\n",
       " 'mildred',\n",
       " 'katherine',\n",
       " 'kathy',\n",
       " 'theresa',\n",
       " 'tammy',\n",
       " 'marilyn',\n",
       " 'phyllis',\n",
       " 'norma',\n",
       " 'annie',\n",
       " 'emily']"
      ]
     },
     "execution_count": 386,
     "metadata": {},
     "output_type": "execute_result"
    }
   ],
   "source": [
    "fnames[:30]"
   ]
  },
  {
   "cell_type": "code",
   "execution_count": 387,
   "metadata": {},
   "outputs": [],
   "source": [
    "selected_dfm.to_csv(\"../male_names_only_USA.csv\", index=False)\n",
    "selected_dff.to_csv(\"../female_names_only_USA.csv\", index=False)"
   ]
  },
  {
   "cell_type": "markdown",
   "metadata": {},
   "source": [
    "## 2. Get Unique Name by Country\n",
    "\n",
    "This data is used to obtain 2 csv files:\n",
    "* **a list of unique male names that is unique for each country**, saved as `../unique_male_names_and_country.csv` : a list of male names such that (1) for each male name it doesn't exist as a female name in any country and (2) for each male name, it's unique for each country\n",
    "* **a list of unique female names that is unique for each country**, saved as `../unique_female_names_and_country.csv` : a list of female names such that (1) for each female name, it doesn't exist as a male name in any country  and (2) for each female name, it's unique for each country"
   ]
  },
  {
   "cell_type": "code",
   "execution_count": 388,
   "metadata": {},
   "outputs": [],
   "source": [
    "name_to_country = {}\n",
    "for country in gc.nameLists.keys():\n",
    "    for gender, names in gc.nameLists[country].items():\n",
    "        for name in names:\n",
    "            if name in name_to_country and  name_to_country[name] != country:\n",
    "                name_to_country[name] = 'invalid'\n",
    "            else:\n",
    "                name_to_country[name] = country\n",
    "                \n",
    "result = [(name, country) for name, country in name_to_country.items() if country != 'invalid']"
   ]
  },
  {
   "cell_type": "code",
   "execution_count": 389,
   "metadata": {},
   "outputs": [],
   "source": [
    "df = pd.DataFrame(data=result, columns=[\"name\", \"country\"])"
   ]
  },
  {
   "cell_type": "code",
   "execution_count": 390,
   "metadata": {},
   "outputs": [
    {
     "data": {
      "text/html": [
       "<div>\n",
       "<style scoped>\n",
       "    .dataframe tbody tr th:only-of-type {\n",
       "        vertical-align: middle;\n",
       "    }\n",
       "\n",
       "    .dataframe tbody tr th {\n",
       "        vertical-align: top;\n",
       "    }\n",
       "\n",
       "    .dataframe thead th {\n",
       "        text-align: right;\n",
       "    }\n",
       "</style>\n",
       "<table border=\"1\" class=\"dataframe\">\n",
       "  <thead>\n",
       "    <tr style=\"text-align: right;\">\n",
       "      <th></th>\n",
       "      <th>name</th>\n",
       "      <th>country</th>\n",
       "    </tr>\n",
       "  </thead>\n",
       "  <tbody>\n",
       "    <tr>\n",
       "      <th>0</th>\n",
       "      <td>arsalakhan</td>\n",
       "      <td>Afghanistan</td>\n",
       "    </tr>\n",
       "    <tr>\n",
       "      <th>1</th>\n",
       "      <td>aymal</td>\n",
       "      <td>Afghanistan</td>\n",
       "    </tr>\n",
       "    <tr>\n",
       "      <th>2</th>\n",
       "      <td>babrack</td>\n",
       "      <td>Afghanistan</td>\n",
       "    </tr>\n",
       "    <tr>\n",
       "      <th>3</th>\n",
       "      <td>jelander</td>\n",
       "      <td>Afghanistan</td>\n",
       "    </tr>\n",
       "    <tr>\n",
       "      <th>4</th>\n",
       "      <td>kawatara</td>\n",
       "      <td>Afghanistan</td>\n",
       "    </tr>\n",
       "    <tr>\n",
       "      <th>...</th>\n",
       "      <td>...</td>\n",
       "      <td>...</td>\n",
       "    </tr>\n",
       "    <tr>\n",
       "      <th>90041</th>\n",
       "      <td>ypje</td>\n",
       "      <td>The Netherlands</td>\n",
       "    </tr>\n",
       "    <tr>\n",
       "      <th>90042</th>\n",
       "      <td>ytje</td>\n",
       "      <td>The Netherlands</td>\n",
       "    </tr>\n",
       "    <tr>\n",
       "      <th>90043</th>\n",
       "      <td>ytske</td>\n",
       "      <td>The Netherlands</td>\n",
       "    </tr>\n",
       "    <tr>\n",
       "      <th>90044</th>\n",
       "      <td>yttje</td>\n",
       "      <td>The Netherlands</td>\n",
       "    </tr>\n",
       "    <tr>\n",
       "      <th>90045</th>\n",
       "      <td>zuster</td>\n",
       "      <td>The Netherlands</td>\n",
       "    </tr>\n",
       "  </tbody>\n",
       "</table>\n",
       "<p>90046 rows × 2 columns</p>\n",
       "</div>"
      ],
      "text/plain": [
       "             name          country\n",
       "0      arsalakhan      Afghanistan\n",
       "1           aymal      Afghanistan\n",
       "2         babrack      Afghanistan\n",
       "3        jelander      Afghanistan\n",
       "4        kawatara      Afghanistan\n",
       "...           ...              ...\n",
       "90041        ypje  The Netherlands\n",
       "90042        ytje  The Netherlands\n",
       "90043       ytske  The Netherlands\n",
       "90044       yttje  The Netherlands\n",
       "90045      zuster  The Netherlands\n",
       "\n",
       "[90046 rows x 2 columns]"
      ]
     },
     "execution_count": 390,
     "metadata": {},
     "output_type": "execute_result"
    }
   ],
   "source": [
    "df"
   ]
  },
  {
   "cell_type": "code",
   "execution_count": 391,
   "metadata": {},
   "outputs": [],
   "source": [
    "df.to_csv(\"../unique_name_country.csv\", index=None)"
   ]
  },
  {
   "cell_type": "code",
   "execution_count": 392,
   "metadata": {},
   "outputs": [],
   "source": [
    "df = pd.read_csv(\"../unique_name_country.csv\")\n",
    "\n",
    "# gcm = pd.read_csv(\"../../data/gc_name/male_names_only.csv\")\n",
    "gcm = pd.read_csv(\"../male_names_only.csv\")\n",
    "gcm = gcm.sample(frac=1, random_state=123)\n",
    "mnames = gcm[\"name\"].tolist()# # names from GC\n",
    "# gcf = pd.read_csv(\"../../data/gc_name/female_names_only.csv\")\n",
    "gcf = pd.read_csv(\"../female_names_only.csv\")\n",
    "gcf = gcf.sample(frac=1, random_state=123)\n",
    "fnames = gcf[\"name\"].tolist()# # names from GC\n",
    "\n",
    "\n",
    "df = df.sample(frac=1, random_state=12345)\n",
    "n = 1\n",
    "gb = df.groupby(\"country\")\n",
    "unique_male_names = []\n",
    "unique_female_names = []\n",
    "countries = []\n",
    "for k in gb.groups.keys() :\n",
    "    d = gb.get_group(k)\n",
    "    male = \"\"\n",
    "    female = \"\"\n",
    "#     print(len(d[\"name\"].tolist()))\n",
    "#     print(d[\"name\"].tolist()[0])\n",
    "    for name in d[\"name\"].tolist():\n",
    "#         if \"-\" not in name and \" \" not in name and \"\\\\\" not in name:\n",
    "        if male == \"\" :\n",
    "            if name in mnames :\n",
    "                male = name\n",
    "        if female == \"\" :\n",
    "            if name in fnames :\n",
    "                female = name\n",
    "        if male != \"\" and female != \"\" :\n",
    "            unique_male_names.append(male.title())\n",
    "            unique_female_names.append(female.title())\n",
    "            countries.append(k)\n",
    "            break"
   ]
  },
  {
   "cell_type": "code",
   "execution_count": 393,
   "metadata": {},
   "outputs": [
    {
     "name": "stdout",
     "output_type": "stream",
     "text": [
      "['Jelander', 'Christop', 'Fabijano', 'Odisseu', 'Kerigan', 'Kajinek', 'Kauko', 'Kotsos', 'Lenci', 'Jivavijaya', 'Keyghobad', 'Airiz', 'Tsahi', 'Verners', 'Karstein', 'Albercik', 'Oliviu', 'Matevz', 'Waabberi', 'Vide', 'Harrit', 'Pars', 'Theoden', 'Eldridge', 'Budivid']\n"
     ]
    }
   ],
   "source": [
    "print(unique_male_names)"
   ]
  },
  {
   "cell_type": "code",
   "execution_count": 394,
   "metadata": {},
   "outputs": [
    {
     "data": {
      "text/html": [
       "<div>\n",
       "<style scoped>\n",
       "    .dataframe tbody tr th:only-of-type {\n",
       "        vertical-align: middle;\n",
       "    }\n",
       "\n",
       "    .dataframe tbody tr th {\n",
       "        vertical-align: top;\n",
       "    }\n",
       "\n",
       "    .dataframe thead th {\n",
       "        text-align: right;\n",
       "    }\n",
       "</style>\n",
       "<table border=\"1\" class=\"dataframe\">\n",
       "  <thead>\n",
       "    <tr style=\"text-align: right;\">\n",
       "      <th></th>\n",
       "      <th>name</th>\n",
       "      <th>country</th>\n",
       "    </tr>\n",
       "  </thead>\n",
       "  <tbody>\n",
       "    <tr>\n",
       "      <th>0</th>\n",
       "      <td>Jelander</td>\n",
       "      <td>Afghanistan</td>\n",
       "    </tr>\n",
       "    <tr>\n",
       "      <th>1</th>\n",
       "      <td>Christop</td>\n",
       "      <td>Australia</td>\n",
       "    </tr>\n",
       "    <tr>\n",
       "      <th>2</th>\n",
       "      <td>Fabijano</td>\n",
       "      <td>Belgium</td>\n",
       "    </tr>\n",
       "    <tr>\n",
       "      <th>3</th>\n",
       "      <td>Odisseu</td>\n",
       "      <td>Brazil</td>\n",
       "    </tr>\n",
       "    <tr>\n",
       "      <th>4</th>\n",
       "      <td>Kerigan</td>\n",
       "      <td>Canada</td>\n",
       "    </tr>\n",
       "    <tr>\n",
       "      <th>5</th>\n",
       "      <td>Kajinek</td>\n",
       "      <td>Czech</td>\n",
       "    </tr>\n",
       "    <tr>\n",
       "      <th>6</th>\n",
       "      <td>Kauko</td>\n",
       "      <td>Finland</td>\n",
       "    </tr>\n",
       "    <tr>\n",
       "      <th>7</th>\n",
       "      <td>Kotsos</td>\n",
       "      <td>Greece</td>\n",
       "    </tr>\n",
       "    <tr>\n",
       "      <th>8</th>\n",
       "      <td>Lenci</td>\n",
       "      <td>Hungary</td>\n",
       "    </tr>\n",
       "    <tr>\n",
       "      <th>9</th>\n",
       "      <td>Jivavijaya</td>\n",
       "      <td>India</td>\n",
       "    </tr>\n",
       "    <tr>\n",
       "      <th>10</th>\n",
       "      <td>Keyghobad</td>\n",
       "      <td>Iran</td>\n",
       "    </tr>\n",
       "    <tr>\n",
       "      <th>11</th>\n",
       "      <td>Airiz</td>\n",
       "      <td>Ireland</td>\n",
       "    </tr>\n",
       "    <tr>\n",
       "      <th>12</th>\n",
       "      <td>Tsahi</td>\n",
       "      <td>Israel</td>\n",
       "    </tr>\n",
       "    <tr>\n",
       "      <th>13</th>\n",
       "      <td>Verners</td>\n",
       "      <td>Latvia</td>\n",
       "    </tr>\n",
       "    <tr>\n",
       "      <th>14</th>\n",
       "      <td>Karstein</td>\n",
       "      <td>Norway</td>\n",
       "    </tr>\n",
       "    <tr>\n",
       "      <th>15</th>\n",
       "      <td>Albercik</td>\n",
       "      <td>Poland</td>\n",
       "    </tr>\n",
       "    <tr>\n",
       "      <th>16</th>\n",
       "      <td>Oliviu</td>\n",
       "      <td>Romania</td>\n",
       "    </tr>\n",
       "    <tr>\n",
       "      <th>17</th>\n",
       "      <td>Matevz</td>\n",
       "      <td>Slovenia</td>\n",
       "    </tr>\n",
       "    <tr>\n",
       "      <th>18</th>\n",
       "      <td>Waabberi</td>\n",
       "      <td>Somalia</td>\n",
       "    </tr>\n",
       "    <tr>\n",
       "      <th>19</th>\n",
       "      <td>Vide</td>\n",
       "      <td>Sweden</td>\n",
       "    </tr>\n",
       "    <tr>\n",
       "      <th>20</th>\n",
       "      <td>Harrit</td>\n",
       "      <td>The Netherlands</td>\n",
       "    </tr>\n",
       "    <tr>\n",
       "      <th>21</th>\n",
       "      <td>Pars</td>\n",
       "      <td>Turkey</td>\n",
       "    </tr>\n",
       "    <tr>\n",
       "      <th>22</th>\n",
       "      <td>Theoden</td>\n",
       "      <td>UK</td>\n",
       "    </tr>\n",
       "    <tr>\n",
       "      <th>23</th>\n",
       "      <td>Eldridge</td>\n",
       "      <td>USA</td>\n",
       "    </tr>\n",
       "    <tr>\n",
       "      <th>24</th>\n",
       "      <td>Budivid</td>\n",
       "      <td>Ukraine</td>\n",
       "    </tr>\n",
       "  </tbody>\n",
       "</table>\n",
       "</div>"
      ],
      "text/plain": [
       "          name          country\n",
       "0     Jelander      Afghanistan\n",
       "1     Christop        Australia\n",
       "2     Fabijano          Belgium\n",
       "3      Odisseu           Brazil\n",
       "4      Kerigan           Canada\n",
       "5      Kajinek            Czech\n",
       "6        Kauko          Finland\n",
       "7       Kotsos           Greece\n",
       "8        Lenci          Hungary\n",
       "9   Jivavijaya            India\n",
       "10   Keyghobad             Iran\n",
       "11       Airiz          Ireland\n",
       "12       Tsahi           Israel\n",
       "13     Verners           Latvia\n",
       "14    Karstein           Norway\n",
       "15    Albercik           Poland\n",
       "16      Oliviu          Romania\n",
       "17      Matevz         Slovenia\n",
       "18    Waabberi          Somalia\n",
       "19        Vide           Sweden\n",
       "20      Harrit  The Netherlands\n",
       "21        Pars           Turkey\n",
       "22     Theoden               UK\n",
       "23    Eldridge              USA\n",
       "24     Budivid          Ukraine"
      ]
     },
     "execution_count": 394,
     "metadata": {},
     "output_type": "execute_result"
    }
   ],
   "source": [
    "df_unique_male_names = pd.DataFrame(data={\"name\": unique_male_names, \"country\": countries})\n",
    "df_unique_male_names.to_csv(\"../unique_male_names_and_country.csv\")\n",
    "df_unique_male_names "
   ]
  },
  {
   "cell_type": "code",
   "execution_count": 395,
   "metadata": {},
   "outputs": [
    {
     "data": {
      "text/html": [
       "<div>\n",
       "<style scoped>\n",
       "    .dataframe tbody tr th:only-of-type {\n",
       "        vertical-align: middle;\n",
       "    }\n",
       "\n",
       "    .dataframe tbody tr th {\n",
       "        vertical-align: top;\n",
       "    }\n",
       "\n",
       "    .dataframe thead th {\n",
       "        text-align: right;\n",
       "    }\n",
       "</style>\n",
       "<table border=\"1\" class=\"dataframe\">\n",
       "  <thead>\n",
       "    <tr style=\"text-align: right;\">\n",
       "      <th></th>\n",
       "      <th>name</th>\n",
       "      <th>country</th>\n",
       "    </tr>\n",
       "  </thead>\n",
       "  <tbody>\n",
       "    <tr>\n",
       "      <th>0</th>\n",
       "      <td>Spogmai</td>\n",
       "      <td>Afghanistan</td>\n",
       "    </tr>\n",
       "    <tr>\n",
       "      <th>1</th>\n",
       "      <td>Kimberle</td>\n",
       "      <td>Australia</td>\n",
       "    </tr>\n",
       "    <tr>\n",
       "      <th>2</th>\n",
       "      <td>Manyak</td>\n",
       "      <td>Belgium</td>\n",
       "    </tr>\n",
       "    <tr>\n",
       "      <th>3</th>\n",
       "      <td>Ibiacema</td>\n",
       "      <td>Brazil</td>\n",
       "    </tr>\n",
       "    <tr>\n",
       "      <th>4</th>\n",
       "      <td>Toniko</td>\n",
       "      <td>Canada</td>\n",
       "    </tr>\n",
       "    <tr>\n",
       "      <th>5</th>\n",
       "      <td>Dagmarka</td>\n",
       "      <td>Czech</td>\n",
       "    </tr>\n",
       "    <tr>\n",
       "      <th>6</th>\n",
       "      <td>Josefiina</td>\n",
       "      <td>Finland</td>\n",
       "    </tr>\n",
       "    <tr>\n",
       "      <th>7</th>\n",
       "      <td>Pitsa</td>\n",
       "      <td>Greece</td>\n",
       "    </tr>\n",
       "    <tr>\n",
       "      <th>8</th>\n",
       "      <td>Bske</td>\n",
       "      <td>Hungary</td>\n",
       "    </tr>\n",
       "    <tr>\n",
       "      <th>9</th>\n",
       "      <td>Humaila</td>\n",
       "      <td>India</td>\n",
       "    </tr>\n",
       "    <tr>\n",
       "      <th>10</th>\n",
       "      <td>Avizeh</td>\n",
       "      <td>Iran</td>\n",
       "    </tr>\n",
       "    <tr>\n",
       "      <th>11</th>\n",
       "      <td>Jodilee</td>\n",
       "      <td>Ireland</td>\n",
       "    </tr>\n",
       "    <tr>\n",
       "      <th>12</th>\n",
       "      <td>Narkis</td>\n",
       "      <td>Israel</td>\n",
       "    </tr>\n",
       "    <tr>\n",
       "      <th>13</th>\n",
       "      <td>Sapa</td>\n",
       "      <td>Latvia</td>\n",
       "    </tr>\n",
       "    <tr>\n",
       "      <th>14</th>\n",
       "      <td>Hildegunn</td>\n",
       "      <td>Norway</td>\n",
       "    </tr>\n",
       "    <tr>\n",
       "      <th>15</th>\n",
       "      <td>Aneczka</td>\n",
       "      <td>Poland</td>\n",
       "    </tr>\n",
       "    <tr>\n",
       "      <th>16</th>\n",
       "      <td>Mariutza</td>\n",
       "      <td>Romania</td>\n",
       "    </tr>\n",
       "    <tr>\n",
       "      <th>17</th>\n",
       "      <td>Polonca</td>\n",
       "      <td>Slovenia</td>\n",
       "    </tr>\n",
       "    <tr>\n",
       "      <th>18</th>\n",
       "      <td>Cambro</td>\n",
       "      <td>Somalia</td>\n",
       "    </tr>\n",
       "    <tr>\n",
       "      <th>19</th>\n",
       "      <td>Felizia</td>\n",
       "      <td>Sweden</td>\n",
       "    </tr>\n",
       "    <tr>\n",
       "      <th>20</th>\n",
       "      <td>Waltruda</td>\n",
       "      <td>The Netherlands</td>\n",
       "    </tr>\n",
       "    <tr>\n",
       "      <th>21</th>\n",
       "      <td>Aybirgen</td>\n",
       "      <td>Turkey</td>\n",
       "    </tr>\n",
       "    <tr>\n",
       "      <th>22</th>\n",
       "      <td>Shontae</td>\n",
       "      <td>UK</td>\n",
       "    </tr>\n",
       "    <tr>\n",
       "      <th>23</th>\n",
       "      <td>Lizzette</td>\n",
       "      <td>USA</td>\n",
       "    </tr>\n",
       "    <tr>\n",
       "      <th>24</th>\n",
       "      <td>Bilomira</td>\n",
       "      <td>Ukraine</td>\n",
       "    </tr>\n",
       "  </tbody>\n",
       "</table>\n",
       "</div>"
      ],
      "text/plain": [
       "         name          country\n",
       "0     Spogmai      Afghanistan\n",
       "1    Kimberle        Australia\n",
       "2      Manyak          Belgium\n",
       "3    Ibiacema           Brazil\n",
       "4      Toniko           Canada\n",
       "5    Dagmarka            Czech\n",
       "6   Josefiina          Finland\n",
       "7       Pitsa           Greece\n",
       "8        Bske          Hungary\n",
       "9     Humaila            India\n",
       "10     Avizeh             Iran\n",
       "11    Jodilee          Ireland\n",
       "12     Narkis           Israel\n",
       "13       Sapa           Latvia\n",
       "14  Hildegunn           Norway\n",
       "15    Aneczka           Poland\n",
       "16   Mariutza          Romania\n",
       "17    Polonca         Slovenia\n",
       "18     Cambro          Somalia\n",
       "19    Felizia           Sweden\n",
       "20   Waltruda  The Netherlands\n",
       "21   Aybirgen           Turkey\n",
       "22    Shontae               UK\n",
       "23   Lizzette              USA\n",
       "24   Bilomira          Ukraine"
      ]
     },
     "execution_count": 395,
     "metadata": {},
     "output_type": "execute_result"
    }
   ],
   "source": [
    "df_unique_female_names = pd.DataFrame(data={\"name\": unique_female_names, \"country\": countries})\n",
    "df_unique_female_names.to_csv(\"../unique_female_names_and_country.csv\")\n",
    "df_unique_female_names "
   ]
  },
  {
   "cell_type": "code",
   "execution_count": null,
   "metadata": {},
   "outputs": [],
   "source": []
  }
 ],
 "metadata": {
  "kernelspec": {
   "display_name": "Python 3",
   "language": "python",
   "name": "python3"
  },
  "language_info": {
   "codemirror_mode": {
    "name": "ipython",
    "version": 3
   },
   "file_extension": ".py",
   "mimetype": "text/x-python",
   "name": "python",
   "nbconvert_exporter": "python",
   "pygments_lexer": "ipython3",
   "version": "3.9.2"
  }
 },
 "nbformat": 4,
 "nbformat_minor": 4
}
